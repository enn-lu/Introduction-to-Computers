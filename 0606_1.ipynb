{
  "nbformat": 4,
  "nbformat_minor": 0,
  "metadata": {
    "colab": {
      "name": "0606_1.ipynb",
      "provenance": [],
      "collapsed_sections": [],
      "authorship_tag": "ABX9TyMWXWCX0lVJz1HwFzha9XiS",
      "include_colab_link": true
    },
    "kernelspec": {
      "name": "python3",
      "display_name": "Python 3"
    },
    "language_info": {
      "name": "python"
    }
  },
  "cells": [
    {
      "cell_type": "markdown",
      "metadata": {
        "id": "view-in-github",
        "colab_type": "text"
      },
      "source": [
        "<a href=\"https://colab.research.google.com/github/tku-peiyucheng/Introduction-to-Computers/blob/main/0606_1.ipynb\" target=\"_parent\"><img src=\"https://colab.research.google.com/assets/colab-badge.svg\" alt=\"Open In Colab\"/></a>"
      ]
    },
    {
      "cell_type": "code",
      "execution_count": null,
      "metadata": {
        "colab": {
          "base_uri": "https://localhost:8080/"
        },
        "id": "N545kYIjD765",
        "outputId": "43f58774-20b7-47c8-8377-a89586b0d64d"
      },
      "outputs": [
        {
          "output_type": "stream",
          "name": "stdout",
          "text": [
            "0606test\n"
          ]
        }
      ],
      "source": [
        "print(\"0606test\")"
      ]
    },
    {
      "cell_type": "code",
      "source": [
        "i = 0\n",
        "result = 0\n",
        "while i <= 50:\n",
        "    if i % 2 != 0:\n",
        "        result += i\n",
        "    i+=1    \n",
        "print(\"0~50的奇數和結果是%d\" % result)"
      ],
      "metadata": {
        "colab": {
          "base_uri": "https://localhost:8080/"
        },
        "id": "gy1h6SWKE5lO",
        "outputId": "f1fa9b53-ae3e-496f-aa5e-21981b02fd48"
      },
      "execution_count": null,
      "outputs": [
        {
          "output_type": "stream",
          "name": "stdout",
          "text": [
            "0~50的奇數和結果是625\n"
          ]
        }
      ]
    },
    {
      "cell_type": "code",
      "source": [
        "i = 0\n",
        "result = 0\n",
        "while i <= 50:\n",
        "    if i % 2 == 0:\n",
        "        result += i\n",
        "    i+=1    \n",
        "print(\"0~50的偶數和結果是%d\" % result)"
      ],
      "metadata": {
        "colab": {
          "base_uri": "https://localhost:8080/"
        },
        "id": "oQVU0TvEFj6L",
        "outputId": "676c19eb-705f-464d-b538-5a7bb0c704f4"
      },
      "execution_count": null,
      "outputs": [
        {
          "output_type": "stream",
          "name": "stdout",
          "text": [
            "0~50的偶數和結果是650\n"
          ]
        }
      ]
    },
    {
      "cell_type": "code",
      "source": [
        "n = int(input(\"請輸入正整數：\"))\n",
        "for i in range(1,n+1):\n",
        "    for j in range(i,n+1):\n",
        "        print(\"*\", end=\"\")\n",
        "    print()"
      ],
      "metadata": {
        "colab": {
          "base_uri": "https://localhost:8080/"
        },
        "id": "mPN4wYJzHEp5",
        "outputId": "e3cd41a1-6f58-4308-ec66-53e9a8de148c"
      },
      "execution_count": null,
      "outputs": [
        {
          "output_type": "stream",
          "name": "stdout",
          "text": [
            "請輸入正整數：10\n",
            "**********\n",
            "*********\n",
            "********\n",
            "*******\n",
            "******\n",
            "*****\n",
            "****\n",
            "***\n",
            "**\n",
            "*\n"
          ]
        }
      ]
    },
    {
      "cell_type": "code",
      "source": [
        "sum = 0\n",
        "for i in range(0, 101):\n",
        "    if (i%3==0 or i%7==0):\n",
        "        sum += i\n",
        "print(\"數值 1~100 中，所有是 3 或 7 倍數的數之總和 =\",sum)  "
      ],
      "metadata": {
        "colab": {
          "base_uri": "https://localhost:8080/"
        },
        "id": "N9aR9-1dHhVe",
        "outputId": "a8203677-da54-42c1-a06a-84ff280345a2"
      },
      "execution_count": null,
      "outputs": [
        {
          "output_type": "stream",
          "name": "stdout",
          "text": [
            "數值 1~100 中，所有是 3 或 7 倍數的數之總和 = 2208\n"
          ]
        }
      ]
    },
    {
      "cell_type": "code",
      "source": [
        "p=1\n",
        "counter=0\n",
        "n = int(input(\"請輸入正整數：\"))\n",
        "print(n,\"的因數有\",end=\" \")\n",
        "while (p<=n):\n",
        "    if (n%p==0):\n",
        "        print(p,end=\" \")\n",
        "        counter+=1\n",
        "    p+=1\n",
        "\n",
        "print()    \n",
        "if (counter==2):    \n",
        "    print(n,\"是質數\")\n",
        "else:\n",
        "    print(n,\"不是質數\")"
      ],
      "metadata": {
        "colab": {
          "base_uri": "https://localhost:8080/"
        },
        "id": "nZbounxFJStY",
        "outputId": "0f705696-c40d-470e-c6e3-a83ab9f5882c"
      },
      "execution_count": null,
      "outputs": [
        {
          "output_type": "stream",
          "name": "stdout",
          "text": [
            "請輸入正整數：3\n",
            "3 的因數有 1 3 \n",
            "3 是質數\n"
          ]
        }
      ]
    },
    {
      "cell_type": "code",
      "source": [
        "list1 = [1,2,3,4,5]"
      ],
      "metadata": {
        "id": "QYCu_52_LVDk"
      },
      "execution_count": null,
      "outputs": []
    },
    {
      "cell_type": "code",
      "source": [
        "list1"
      ],
      "metadata": {
        "colab": {
          "base_uri": "https://localhost:8080/"
        },
        "id": "b8cenOxzLtqT",
        "outputId": "c279a789-a975-4841-9860-550c1e7435a1"
      },
      "execution_count": null,
      "outputs": [
        {
          "output_type": "execute_result",
          "data": {
            "text/plain": [
              "[1, 2, 3, 4, 5]"
            ]
          },
          "metadata": {},
          "execution_count": 15
        }
      ]
    },
    {
      "cell_type": "code",
      "source": [
        "list2 = [\"香蕉\",\"蘋果\",\"橘子\"]"
      ],
      "metadata": {
        "id": "aFSCQ1Z3Lvmo"
      },
      "execution_count": null,
      "outputs": []
    },
    {
      "cell_type": "code",
      "source": [
        "list2"
      ],
      "metadata": {
        "colab": {
          "base_uri": "https://localhost:8080/"
        },
        "id": "NGUvROG4MJWA",
        "outputId": "a84cdea9-f2c5-42a9-f299-37a926bdec6e"
      },
      "execution_count": null,
      "outputs": [
        {
          "output_type": "execute_result",
          "data": {
            "text/plain": [
              "['香蕉', '蘋果', '橘子']"
            ]
          },
          "metadata": {},
          "execution_count": 17
        }
      ]
    },
    {
      "cell_type": "code",
      "source": [
        "list3 = [1,\"香蕉\", True]"
      ],
      "metadata": {
        "id": "tiN_NYvvMLMq"
      },
      "execution_count": null,
      "outputs": []
    },
    {
      "cell_type": "code",
      "source": [
        "list3"
      ],
      "metadata": {
        "colab": {
          "base_uri": "https://localhost:8080/"
        },
        "id": "HNZKVa-AMMix",
        "outputId": "ed4d219b-8d85-4a25-f16e-5277bfbb2ba5"
      },
      "execution_count": null,
      "outputs": [
        {
          "output_type": "execute_result",
          "data": {
            "text/plain": [
              "[1, '香蕉', True]"
            ]
          },
          "metadata": {},
          "execution_count": 19
        }
      ]
    },
    {
      "cell_type": "code",
      "source": [
        "print(list1)"
      ],
      "metadata": {
        "colab": {
          "base_uri": "https://localhost:8080/"
        },
        "id": "xNdxE4ZzMNm2",
        "outputId": "ff2baca8-21ee-445d-da09-5779354ff7c0"
      },
      "execution_count": null,
      "outputs": [
        {
          "output_type": "stream",
          "name": "stdout",
          "text": [
            "[1, 2, 3, 4, 5]\n"
          ]
        }
      ]
    },
    {
      "cell_type": "code",
      "source": [
        "print(list1[0])"
      ],
      "metadata": {
        "colab": {
          "base_uri": "https://localhost:8080/"
        },
        "id": "0678WjA3NECG",
        "outputId": "2cbaea39-b447-43e5-eeb2-a6ced3d7c560"
      },
      "execution_count": null,
      "outputs": [
        {
          "output_type": "stream",
          "name": "stdout",
          "text": [
            "1\n"
          ]
        }
      ]
    },
    {
      "cell_type": "code",
      "source": [
        "print(list1[1])"
      ],
      "metadata": {
        "colab": {
          "base_uri": "https://localhost:8080/"
        },
        "id": "p2dIXvr4NI24",
        "outputId": "44a97f6b-78fb-4907-acc6-44bb8af5c627"
      },
      "execution_count": null,
      "outputs": [
        {
          "output_type": "stream",
          "name": "stdout",
          "text": [
            "2\n"
          ]
        }
      ]
    },
    {
      "cell_type": "code",
      "source": [
        "print(list1[0])\n",
        "print(list1[1])\n",
        "print(list1[2])\n",
        "print(list1[3])\n",
        "print(list1[4])"
      ],
      "metadata": {
        "colab": {
          "base_uri": "https://localhost:8080/"
        },
        "id": "K2HpzJjaNKhe",
        "outputId": "44b8ae0c-00ac-4ee4-f9cf-89fb4494bc87"
      },
      "execution_count": null,
      "outputs": [
        {
          "output_type": "stream",
          "name": "stdout",
          "text": [
            "1\n",
            "2\n",
            "3\n",
            "4\n",
            "5\n"
          ]
        }
      ]
    },
    {
      "cell_type": "code",
      "source": [
        "list4 = [\"香蕉\",\"蘋果\",\"橘子\"]"
      ],
      "metadata": {
        "id": "qv6OZOmmNTKz"
      },
      "execution_count": null,
      "outputs": []
    },
    {
      "cell_type": "code",
      "source": [
        "print(list4[1])"
      ],
      "metadata": {
        "colab": {
          "base_uri": "https://localhost:8080/"
        },
        "id": "wUnfu8_aNg-P",
        "outputId": "6741922f-6eb3-4e52-c671-787b6b59ab33"
      },
      "execution_count": null,
      "outputs": [
        {
          "output_type": "stream",
          "name": "stdout",
          "text": [
            "蘋果\n"
          ]
        }
      ]
    },
    {
      "cell_type": "code",
      "source": [
        "print(list4[0])\n",
        "print(list4[1])\n",
        "print(list4[2])"
      ],
      "metadata": {
        "colab": {
          "base_uri": "https://localhost:8080/"
        },
        "id": "HbJ_5X2tNj15",
        "outputId": "60c46367-4d67-4efc-bf2e-92855eb628a7"
      },
      "execution_count": null,
      "outputs": [
        {
          "output_type": "stream",
          "name": "stdout",
          "text": [
            "香蕉\n",
            "蘋果\n",
            "橘子\n"
          ]
        }
      ]
    },
    {
      "cell_type": "code",
      "source": [
        "print(list4[3])"
      ],
      "metadata": {
        "colab": {
          "base_uri": "https://localhost:8080/",
          "height": 172
        },
        "id": "AxmRoYZHODqS",
        "outputId": "a11a8ec2-dde8-462f-f0e8-67386c7bfebb"
      },
      "execution_count": null,
      "outputs": [
        {
          "output_type": "error",
          "ename": "IndexError",
          "evalue": "ignored",
          "traceback": [
            "\u001b[0;31m---------------------------------------------------------------------------\u001b[0m",
            "\u001b[0;31mIndexError\u001b[0m                                Traceback (most recent call last)",
            "\u001b[0;32m<ipython-input-28-9576ac69e6be>\u001b[0m in \u001b[0;36m<module>\u001b[0;34m()\u001b[0m\n\u001b[0;32m----> 1\u001b[0;31m \u001b[0mprint\u001b[0m\u001b[0;34m(\u001b[0m\u001b[0mlist4\u001b[0m\u001b[0;34m[\u001b[0m\u001b[0;36m3\u001b[0m\u001b[0;34m]\u001b[0m\u001b[0;34m)\u001b[0m\u001b[0;34m\u001b[0m\u001b[0;34m\u001b[0m\u001b[0m\n\u001b[0m",
            "\u001b[0;31mIndexError\u001b[0m: list index out of range"
          ]
        }
      ]
    },
    {
      "cell_type": "code",
      "source": [
        "print(list4[-1])"
      ],
      "metadata": {
        "colab": {
          "base_uri": "https://localhost:8080/"
        },
        "id": "RGM9NSVMOITu",
        "outputId": "a0a377e4-540c-4e15-f8ef-3e8f4480ba09"
      },
      "execution_count": null,
      "outputs": [
        {
          "output_type": "stream",
          "name": "stdout",
          "text": [
            "橘子\n"
          ]
        }
      ]
    },
    {
      "cell_type": "code",
      "source": [
        "print(list4[-2])"
      ],
      "metadata": {
        "colab": {
          "base_uri": "https://localhost:8080/"
        },
        "id": "DIjogDKLOqfx",
        "outputId": "1cb3a86d-ab6b-4562-c276-dfb7327713fc"
      },
      "execution_count": null,
      "outputs": [
        {
          "output_type": "stream",
          "name": "stdout",
          "text": [
            "蘋果\n"
          ]
        }
      ]
    },
    {
      "cell_type": "code",
      "source": [
        "print(list4[-3])"
      ],
      "metadata": {
        "colab": {
          "base_uri": "https://localhost:8080/"
        },
        "id": "R3PNmZ9bOruV",
        "outputId": "96ca47d0-ddce-4939-8d20-65526a170c88"
      },
      "execution_count": null,
      "outputs": [
        {
          "output_type": "stream",
          "name": "stdout",
          "text": [
            "香蕉\n"
          ]
        }
      ]
    },
    {
      "cell_type": "code",
      "source": [
        "print(list4[-4])"
      ],
      "metadata": {
        "colab": {
          "base_uri": "https://localhost:8080/",
          "height": 172
        },
        "id": "LsvxA-oFOs8z",
        "outputId": "65dd6ddf-2e23-4d8a-8682-56b5886b070f"
      },
      "execution_count": null,
      "outputs": [
        {
          "output_type": "error",
          "ename": "IndexError",
          "evalue": "ignored",
          "traceback": [
            "\u001b[0;31m---------------------------------------------------------------------------\u001b[0m",
            "\u001b[0;31mIndexError\u001b[0m                                Traceback (most recent call last)",
            "\u001b[0;32m<ipython-input-32-0c21896b40b4>\u001b[0m in \u001b[0;36m<module>\u001b[0;34m()\u001b[0m\n\u001b[0;32m----> 1\u001b[0;31m \u001b[0mprint\u001b[0m\u001b[0;34m(\u001b[0m\u001b[0mlist4\u001b[0m\u001b[0;34m[\u001b[0m\u001b[0;34m-\u001b[0m\u001b[0;36m4\u001b[0m\u001b[0;34m]\u001b[0m\u001b[0;34m)\u001b[0m\u001b[0;34m\u001b[0m\u001b[0;34m\u001b[0m\u001b[0m\n\u001b[0m",
            "\u001b[0;31mIndexError\u001b[0m: list index out of range"
          ]
        }
      ]
    },
    {
      "cell_type": "code",
      "source": [
        "list5 =[[\"tom\",\"1234\"]],[\"mary\",\"abcd\"],[\"david\",\"5678\"]"
      ],
      "metadata": {
        "id": "B9B1kmOyOvPH"
      },
      "execution_count": null,
      "outputs": []
    },
    {
      "cell_type": "code",
      "source": [
        "print(list5[1])"
      ],
      "metadata": {
        "colab": {
          "base_uri": "https://localhost:8080/"
        },
        "id": "MVnEBvIBPNGc",
        "outputId": "0f5a7ab0-9b62-490c-f889-5d31bc14ec39"
      },
      "execution_count": null,
      "outputs": [
        {
          "output_type": "stream",
          "name": "stdout",
          "text": [
            "['mary', 'abcd']\n"
          ]
        }
      ]
    },
    {
      "cell_type": "code",
      "source": [
        "print(list5[0])"
      ],
      "metadata": {
        "colab": {
          "base_uri": "https://localhost:8080/"
        },
        "id": "3B9cCXloPTPl",
        "outputId": "97299d29-1306-4ba9-fbb5-93067ff6db08"
      },
      "execution_count": null,
      "outputs": [
        {
          "output_type": "stream",
          "name": "stdout",
          "text": [
            "[['tom', '1234']]\n"
          ]
        }
      ]
    },
    {
      "cell_type": "code",
      "source": [
        "print(list5[1][1])"
      ],
      "metadata": {
        "colab": {
          "base_uri": "https://localhost:8080/"
        },
        "id": "gSsetQoFPaG9",
        "outputId": "b941ec3b-bb1d-49c7-e356-0d9012efc167"
      },
      "execution_count": null,
      "outputs": [
        {
          "output_type": "stream",
          "name": "stdout",
          "text": [
            "abcd\n"
          ]
        }
      ]
    },
    {
      "cell_type": "code",
      "source": [
        "print(list5[0][0])"
      ],
      "metadata": {
        "colab": {
          "base_uri": "https://localhost:8080/"
        },
        "id": "uf3MM6jTPej-",
        "outputId": "9fe59029-f1ca-467d-e884-0bbdec38b645"
      },
      "execution_count": null,
      "outputs": [
        {
          "output_type": "stream",
          "name": "stdout",
          "text": [
            "['tom', '1234']\n"
          ]
        }
      ]
    },
    {
      "cell_type": "code",
      "source": [
        "scores = [85, 79, 93]\n",
        "print(\"國文成績：%d分\" % scores[0]) \n",
        "print(\"數學成績：%d分\" % scores[1]) \n",
        "print(\"英文成績：%d分\" % scores[2]) "
      ],
      "metadata": {
        "colab": {
          "base_uri": "https://localhost:8080/"
        },
        "id": "nv6SnNijQbLq",
        "outputId": "91b0b1d3-89c5-4e4c-96db-f08016601436"
      },
      "execution_count": null,
      "outputs": [
        {
          "output_type": "stream",
          "name": "stdout",
          "text": [
            "國文成績：85分\n",
            "數學成績：79分\n",
            "英文成績：93分\n"
          ]
        }
      ]
    },
    {
      "cell_type": "code",
      "source": [
        "list6 = [1,2,3,4,5]"
      ],
      "metadata": {
        "id": "u0j_rwt7SgO3"
      },
      "execution_count": null,
      "outputs": []
    },
    {
      "cell_type": "code",
      "source": [
        "print(list6[0])"
      ],
      "metadata": {
        "colab": {
          "base_uri": "https://localhost:8080/"
        },
        "id": "6c_7kEZqTUV6",
        "outputId": "ec9dcafd-9a48-4fdd-acd8-28aa6961d331"
      },
      "execution_count": null,
      "outputs": [
        {
          "output_type": "stream",
          "name": "stdout",
          "text": [
            "1\n"
          ]
        }
      ]
    },
    {
      "cell_type": "code",
      "source": [
        "list6[0] = 9"
      ],
      "metadata": {
        "id": "tupqZZ_pTZK0"
      },
      "execution_count": null,
      "outputs": []
    },
    {
      "cell_type": "code",
      "source": [
        "print(list6[0])"
      ],
      "metadata": {
        "colab": {
          "base_uri": "https://localhost:8080/"
        },
        "id": "Vxwd5zjeTcxH",
        "outputId": "7f2701d7-4200-4064-ef5e-d442c57096c0"
      },
      "execution_count": null,
      "outputs": [
        {
          "output_type": "stream",
          "name": "stdout",
          "text": [
            "9\n"
          ]
        }
      ]
    },
    {
      "cell_type": "code",
      "source": [
        "print(list6)"
      ],
      "metadata": {
        "colab": {
          "base_uri": "https://localhost:8080/"
        },
        "id": "eI2deXxHTgQk",
        "outputId": "f1c033bc-cb2f-40af-fcc5-7f99645be5cd"
      },
      "execution_count": null,
      "outputs": [
        {
          "output_type": "stream",
          "name": "stdout",
          "text": [
            "[9, 2, 3, 4, 5]\n"
          ]
        }
      ]
    },
    {
      "cell_type": "code",
      "source": [
        "list7 = [\"香蕉\",\"蘋果\",\"橘子\"]"
      ],
      "metadata": {
        "id": "b8zAMIKaTgzv"
      },
      "execution_count": null,
      "outputs": []
    },
    {
      "cell_type": "code",
      "source": [
        "for s in list7:\n",
        "    print(s, end= \",\")"
      ],
      "metadata": {
        "colab": {
          "base_uri": "https://localhost:8080/"
        },
        "id": "nloqX08_UGNS",
        "outputId": "a3090a15-8c0c-46e8-b683-c5c31ebc3dd4"
      },
      "execution_count": null,
      "outputs": [
        {
          "output_type": "stream",
          "name": "stdout",
          "text": [
            "香蕉,蘋果,橘子,"
          ]
        }
      ]
    },
    {
      "cell_type": "code",
      "source": [
        "items = [123,\"apple\",True]\n",
        "for item in items:\n",
        "    print(item)"
      ],
      "metadata": {
        "colab": {
          "base_uri": "https://localhost:8080/"
        },
        "id": "uhksWtxMUNyq",
        "outputId": "3ab852ff-c626-476a-e946-880e593891bd"
      },
      "execution_count": null,
      "outputs": [
        {
          "output_type": "stream",
          "name": "stdout",
          "text": [
            "123\n",
            "apple\n",
            "True\n"
          ]
        }
      ]
    },
    {
      "cell_type": "code",
      "source": [
        "scores = [85,79,93]"
      ],
      "metadata": {
        "id": "bY8F7yPsVtq2"
      },
      "execution_count": null,
      "outputs": []
    },
    {
      "cell_type": "code",
      "source": [
        "print(len(scores))"
      ],
      "metadata": {
        "colab": {
          "base_uri": "https://localhost:8080/"
        },
        "id": "--5SxAFmWcRA",
        "outputId": "9a686d95-e608-4bae-84fa-016e25a30e4e"
      },
      "execution_count": null,
      "outputs": [
        {
          "output_type": "stream",
          "name": "stdout",
          "text": [
            "3\n"
          ]
        }
      ]
    },
    {
      "cell_type": "code",
      "source": [
        "scores = [85,79,93]\n",
        "for i in range(len(scores)):\n",
        "    print(scores[i])"
      ],
      "metadata": {
        "colab": {
          "base_uri": "https://localhost:8080/"
        },
        "id": "UP74d2ToWdng",
        "outputId": "dd9f3fc7-617e-44f4-ac42-45bc2695517a"
      },
      "execution_count": null,
      "outputs": [
        {
          "output_type": "stream",
          "name": "stdout",
          "text": [
            "85\n",
            "79\n",
            "93\n"
          ]
        }
      ]
    },
    {
      "cell_type": "code",
      "source": [
        ""
      ],
      "metadata": {
        "id": "RQN7pTYeWohY"
      },
      "execution_count": null,
      "outputs": []
    }
  ]
}